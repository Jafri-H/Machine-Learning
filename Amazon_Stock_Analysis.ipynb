{
  "nbformat": 4,
  "nbformat_minor": 0,
  "metadata": {
    "colab": {
      "provenance": []
    },
    "kernelspec": {
      "name": "python3",
      "display_name": "Python 3"
    },
    "language_info": {
      "name": "python"
    }
  },
  "cells": [
    {
      "cell_type": "code",
      "execution_count": null,
      "metadata": {
        "id": "P_eZtwVP-sEs"
      },
      "outputs": [],
      "source": [
        "# import all of the libraries\n",
        "import numpy as np\n",
        "import pandas as pd\n",
        "import matplotlib.pyplot as plt\n",
        "from sklearn.model_selection import train_test_split\n",
        "from sklearn.linear_model import LinearRegression\n",
        "from sklearn.metrics import mean_squared_error, r2_score\n",
        "from sklearn.linear_model import LinearRegression\n",
        "import yfinance as yf"
      ]
    },
    {
      "cell_type": "code",
      "source": [
        "# load the data\n",
        "am = pd.read_csv('/content/Amazon stock data 2000-2025.csv')\n",
        "am.head()"
      ],
      "metadata": {
        "colab": {
          "base_uri": "https://localhost:8080/",
          "height": 206
        },
        "id": "vwIzcCuy-vSt",
        "outputId": "22afd645-9bb4-4998-be88-4355d81b6de7"
      },
      "execution_count": null,
      "outputs": [
        {
          "output_type": "execute_result",
          "data": {
            "text/plain": [
              "                        date      open      high       low     close  \\\n",
              "0  2000-01-03 00:00:00-05:00  4.075000  4.478125  3.952344  4.468750   \n",
              "1  2000-01-04 00:00:00-05:00  4.268750  4.575000  4.087500  4.096875   \n",
              "2  2000-01-05 00:00:00-05:00  3.525000  3.756250  3.400000  3.487500   \n",
              "3  2000-01-06 00:00:00-05:00  3.565625  3.634375  3.200000  3.278125   \n",
              "4  2000-01-07 00:00:00-05:00  3.350000  3.525000  3.309375  3.478125   \n",
              "\n",
              "   adj_close     volume  \n",
              "0   4.468750  322352000  \n",
              "1   4.096875  349748000  \n",
              "2   3.487500  769148000  \n",
              "3   3.278125  375040000  \n",
              "4   3.478125  210108000  "
            ],
            "text/html": [
              "\n",
              "  <div id=\"df-faa1d2b6-225e-43f1-96be-6ae5eb90c46c\" class=\"colab-df-container\">\n",
              "    <div>\n",
              "<style scoped>\n",
              "    .dataframe tbody tr th:only-of-type {\n",
              "        vertical-align: middle;\n",
              "    }\n",
              "\n",
              "    .dataframe tbody tr th {\n",
              "        vertical-align: top;\n",
              "    }\n",
              "\n",
              "    .dataframe thead th {\n",
              "        text-align: right;\n",
              "    }\n",
              "</style>\n",
              "<table border=\"1\" class=\"dataframe\">\n",
              "  <thead>\n",
              "    <tr style=\"text-align: right;\">\n",
              "      <th></th>\n",
              "      <th>date</th>\n",
              "      <th>open</th>\n",
              "      <th>high</th>\n",
              "      <th>low</th>\n",
              "      <th>close</th>\n",
              "      <th>adj_close</th>\n",
              "      <th>volume</th>\n",
              "    </tr>\n",
              "  </thead>\n",
              "  <tbody>\n",
              "    <tr>\n",
              "      <th>0</th>\n",
              "      <td>2000-01-03 00:00:00-05:00</td>\n",
              "      <td>4.075000</td>\n",
              "      <td>4.478125</td>\n",
              "      <td>3.952344</td>\n",
              "      <td>4.468750</td>\n",
              "      <td>4.468750</td>\n",
              "      <td>322352000</td>\n",
              "    </tr>\n",
              "    <tr>\n",
              "      <th>1</th>\n",
              "      <td>2000-01-04 00:00:00-05:00</td>\n",
              "      <td>4.268750</td>\n",
              "      <td>4.575000</td>\n",
              "      <td>4.087500</td>\n",
              "      <td>4.096875</td>\n",
              "      <td>4.096875</td>\n",
              "      <td>349748000</td>\n",
              "    </tr>\n",
              "    <tr>\n",
              "      <th>2</th>\n",
              "      <td>2000-01-05 00:00:00-05:00</td>\n",
              "      <td>3.525000</td>\n",
              "      <td>3.756250</td>\n",
              "      <td>3.400000</td>\n",
              "      <td>3.487500</td>\n",
              "      <td>3.487500</td>\n",
              "      <td>769148000</td>\n",
              "    </tr>\n",
              "    <tr>\n",
              "      <th>3</th>\n",
              "      <td>2000-01-06 00:00:00-05:00</td>\n",
              "      <td>3.565625</td>\n",
              "      <td>3.634375</td>\n",
              "      <td>3.200000</td>\n",
              "      <td>3.278125</td>\n",
              "      <td>3.278125</td>\n",
              "      <td>375040000</td>\n",
              "    </tr>\n",
              "    <tr>\n",
              "      <th>4</th>\n",
              "      <td>2000-01-07 00:00:00-05:00</td>\n",
              "      <td>3.350000</td>\n",
              "      <td>3.525000</td>\n",
              "      <td>3.309375</td>\n",
              "      <td>3.478125</td>\n",
              "      <td>3.478125</td>\n",
              "      <td>210108000</td>\n",
              "    </tr>\n",
              "  </tbody>\n",
              "</table>\n",
              "</div>\n",
              "    <div class=\"colab-df-buttons\">\n",
              "\n",
              "  <div class=\"colab-df-container\">\n",
              "    <button class=\"colab-df-convert\" onclick=\"convertToInteractive('df-faa1d2b6-225e-43f1-96be-6ae5eb90c46c')\"\n",
              "            title=\"Convert this dataframe to an interactive table.\"\n",
              "            style=\"display:none;\">\n",
              "\n",
              "  <svg xmlns=\"http://www.w3.org/2000/svg\" height=\"24px\" viewBox=\"0 -960 960 960\">\n",
              "    <path d=\"M120-120v-720h720v720H120Zm60-500h600v-160H180v160Zm220 220h160v-160H400v160Zm0 220h160v-160H400v160ZM180-400h160v-160H180v160Zm440 0h160v-160H620v160ZM180-180h160v-160H180v160Zm440 0h160v-160H620v160Z\"/>\n",
              "  </svg>\n",
              "    </button>\n",
              "\n",
              "  <style>\n",
              "    .colab-df-container {\n",
              "      display:flex;\n",
              "      gap: 12px;\n",
              "    }\n",
              "\n",
              "    .colab-df-convert {\n",
              "      background-color: #E8F0FE;\n",
              "      border: none;\n",
              "      border-radius: 50%;\n",
              "      cursor: pointer;\n",
              "      display: none;\n",
              "      fill: #1967D2;\n",
              "      height: 32px;\n",
              "      padding: 0 0 0 0;\n",
              "      width: 32px;\n",
              "    }\n",
              "\n",
              "    .colab-df-convert:hover {\n",
              "      background-color: #E2EBFA;\n",
              "      box-shadow: 0px 1px 2px rgba(60, 64, 67, 0.3), 0px 1px 3px 1px rgba(60, 64, 67, 0.15);\n",
              "      fill: #174EA6;\n",
              "    }\n",
              "\n",
              "    .colab-df-buttons div {\n",
              "      margin-bottom: 4px;\n",
              "    }\n",
              "\n",
              "    [theme=dark] .colab-df-convert {\n",
              "      background-color: #3B4455;\n",
              "      fill: #D2E3FC;\n",
              "    }\n",
              "\n",
              "    [theme=dark] .colab-df-convert:hover {\n",
              "      background-color: #434B5C;\n",
              "      box-shadow: 0px 1px 3px 1px rgba(0, 0, 0, 0.15);\n",
              "      filter: drop-shadow(0px 1px 2px rgba(0, 0, 0, 0.3));\n",
              "      fill: #FFFFFF;\n",
              "    }\n",
              "  </style>\n",
              "\n",
              "    <script>\n",
              "      const buttonEl =\n",
              "        document.querySelector('#df-faa1d2b6-225e-43f1-96be-6ae5eb90c46c button.colab-df-convert');\n",
              "      buttonEl.style.display =\n",
              "        google.colab.kernel.accessAllowed ? 'block' : 'none';\n",
              "\n",
              "      async function convertToInteractive(key) {\n",
              "        const element = document.querySelector('#df-faa1d2b6-225e-43f1-96be-6ae5eb90c46c');\n",
              "        const dataTable =\n",
              "          await google.colab.kernel.invokeFunction('convertToInteractive',\n",
              "                                                    [key], {});\n",
              "        if (!dataTable) return;\n",
              "\n",
              "        const docLinkHtml = 'Like what you see? Visit the ' +\n",
              "          '<a target=\"_blank\" href=https://colab.research.google.com/notebooks/data_table.ipynb>data table notebook</a>'\n",
              "          + ' to learn more about interactive tables.';\n",
              "        element.innerHTML = '';\n",
              "        dataTable['output_type'] = 'display_data';\n",
              "        await google.colab.output.renderOutput(dataTable, element);\n",
              "        const docLink = document.createElement('div');\n",
              "        docLink.innerHTML = docLinkHtml;\n",
              "        element.appendChild(docLink);\n",
              "      }\n",
              "    </script>\n",
              "  </div>\n",
              "\n",
              "\n",
              "<div id=\"df-93f3b798-0da0-4463-9874-145989612e1f\">\n",
              "  <button class=\"colab-df-quickchart\" onclick=\"quickchart('df-93f3b798-0da0-4463-9874-145989612e1f')\"\n",
              "            title=\"Suggest charts\"\n",
              "            style=\"display:none;\">\n",
              "\n",
              "<svg xmlns=\"http://www.w3.org/2000/svg\" height=\"24px\"viewBox=\"0 0 24 24\"\n",
              "     width=\"24px\">\n",
              "    <g>\n",
              "        <path d=\"M19 3H5c-1.1 0-2 .9-2 2v14c0 1.1.9 2 2 2h14c1.1 0 2-.9 2-2V5c0-1.1-.9-2-2-2zM9 17H7v-7h2v7zm4 0h-2V7h2v10zm4 0h-2v-4h2v4z\"/>\n",
              "    </g>\n",
              "</svg>\n",
              "  </button>\n",
              "\n",
              "<style>\n",
              "  .colab-df-quickchart {\n",
              "      --bg-color: #E8F0FE;\n",
              "      --fill-color: #1967D2;\n",
              "      --hover-bg-color: #E2EBFA;\n",
              "      --hover-fill-color: #174EA6;\n",
              "      --disabled-fill-color: #AAA;\n",
              "      --disabled-bg-color: #DDD;\n",
              "  }\n",
              "\n",
              "  [theme=dark] .colab-df-quickchart {\n",
              "      --bg-color: #3B4455;\n",
              "      --fill-color: #D2E3FC;\n",
              "      --hover-bg-color: #434B5C;\n",
              "      --hover-fill-color: #FFFFFF;\n",
              "      --disabled-bg-color: #3B4455;\n",
              "      --disabled-fill-color: #666;\n",
              "  }\n",
              "\n",
              "  .colab-df-quickchart {\n",
              "    background-color: var(--bg-color);\n",
              "    border: none;\n",
              "    border-radius: 50%;\n",
              "    cursor: pointer;\n",
              "    display: none;\n",
              "    fill: var(--fill-color);\n",
              "    height: 32px;\n",
              "    padding: 0;\n",
              "    width: 32px;\n",
              "  }\n",
              "\n",
              "  .colab-df-quickchart:hover {\n",
              "    background-color: var(--hover-bg-color);\n",
              "    box-shadow: 0 1px 2px rgba(60, 64, 67, 0.3), 0 1px 3px 1px rgba(60, 64, 67, 0.15);\n",
              "    fill: var(--button-hover-fill-color);\n",
              "  }\n",
              "\n",
              "  .colab-df-quickchart-complete:disabled,\n",
              "  .colab-df-quickchart-complete:disabled:hover {\n",
              "    background-color: var(--disabled-bg-color);\n",
              "    fill: var(--disabled-fill-color);\n",
              "    box-shadow: none;\n",
              "  }\n",
              "\n",
              "  .colab-df-spinner {\n",
              "    border: 2px solid var(--fill-color);\n",
              "    border-color: transparent;\n",
              "    border-bottom-color: var(--fill-color);\n",
              "    animation:\n",
              "      spin 1s steps(1) infinite;\n",
              "  }\n",
              "\n",
              "  @keyframes spin {\n",
              "    0% {\n",
              "      border-color: transparent;\n",
              "      border-bottom-color: var(--fill-color);\n",
              "      border-left-color: var(--fill-color);\n",
              "    }\n",
              "    20% {\n",
              "      border-color: transparent;\n",
              "      border-left-color: var(--fill-color);\n",
              "      border-top-color: var(--fill-color);\n",
              "    }\n",
              "    30% {\n",
              "      border-color: transparent;\n",
              "      border-left-color: var(--fill-color);\n",
              "      border-top-color: var(--fill-color);\n",
              "      border-right-color: var(--fill-color);\n",
              "    }\n",
              "    40% {\n",
              "      border-color: transparent;\n",
              "      border-right-color: var(--fill-color);\n",
              "      border-top-color: var(--fill-color);\n",
              "    }\n",
              "    60% {\n",
              "      border-color: transparent;\n",
              "      border-right-color: var(--fill-color);\n",
              "    }\n",
              "    80% {\n",
              "      border-color: transparent;\n",
              "      border-right-color: var(--fill-color);\n",
              "      border-bottom-color: var(--fill-color);\n",
              "    }\n",
              "    90% {\n",
              "      border-color: transparent;\n",
              "      border-bottom-color: var(--fill-color);\n",
              "    }\n",
              "  }\n",
              "</style>\n",
              "\n",
              "  <script>\n",
              "    async function quickchart(key) {\n",
              "      const quickchartButtonEl =\n",
              "        document.querySelector('#' + key + ' button');\n",
              "      quickchartButtonEl.disabled = true;  // To prevent multiple clicks.\n",
              "      quickchartButtonEl.classList.add('colab-df-spinner');\n",
              "      try {\n",
              "        const charts = await google.colab.kernel.invokeFunction(\n",
              "            'suggestCharts', [key], {});\n",
              "      } catch (error) {\n",
              "        console.error('Error during call to suggestCharts:', error);\n",
              "      }\n",
              "      quickchartButtonEl.classList.remove('colab-df-spinner');\n",
              "      quickchartButtonEl.classList.add('colab-df-quickchart-complete');\n",
              "    }\n",
              "    (() => {\n",
              "      let quickchartButtonEl =\n",
              "        document.querySelector('#df-93f3b798-0da0-4463-9874-145989612e1f button');\n",
              "      quickchartButtonEl.style.display =\n",
              "        google.colab.kernel.accessAllowed ? 'block' : 'none';\n",
              "    })();\n",
              "  </script>\n",
              "</div>\n",
              "\n",
              "    </div>\n",
              "  </div>\n"
            ],
            "application/vnd.google.colaboratory.intrinsic+json": {
              "type": "dataframe",
              "variable_name": "am",
              "summary": "{\n  \"name\": \"am\",\n  \"rows\": 6321,\n  \"fields\": [\n    {\n      \"column\": \"date\",\n      \"properties\": {\n        \"dtype\": \"object\",\n        \"num_unique_values\": 6321,\n        \"samples\": [\n          \"2016-03-29 00:00:00-04:00\",\n          \"2015-04-16 00:00:00-04:00\",\n          \"2002-11-04 00:00:00-05:00\"\n        ],\n        \"semantic_type\": \"\",\n        \"description\": \"\"\n      }\n    },\n    {\n      \"column\": \"open\",\n      \"properties\": {\n        \"dtype\": \"number\",\n        \"std\": 59.578628758172506,\n        \"min\": 0.2955000102519989,\n        \"max\": 239.0200042724609,\n        \"num_unique_values\": 5727,\n        \"samples\": [\n          27.700000762939453,\n          220.44000244140625,\n          48.477500915527344\n        ],\n        \"semantic_type\": \"\",\n        \"description\": \"\"\n      }\n    },\n    {\n      \"column\": \"high\",\n      \"properties\": {\n        \"dtype\": \"number\",\n        \"std\": 60.24180879953895,\n        \"min\": 0.3050000071525574,\n        \"max\": 242.5200042724609,\n        \"num_unique_values\": 5723,\n        \"samples\": [\n          4.373000144958496,\n          1.7400000095367432,\n          91.47350311279295\n        ],\n        \"semantic_type\": \"\",\n        \"description\": \"\"\n      }\n    },\n    {\n      \"column\": \"low\",\n      \"properties\": {\n        \"dtype\": \"number\",\n        \"std\": 58.852821552806546,\n        \"min\": 0.2754999995231628,\n        \"max\": 238.02999877929688,\n        \"num_unique_values\": 5718,\n        \"samples\": [\n          4.518499851226807,\n          13.893500328063965,\n          84.04450225830078\n        ],\n        \"semantic_type\": \"\",\n        \"description\": \"\"\n      }\n    },\n    {\n      \"column\": \"close\",\n      \"properties\": {\n        \"dtype\": \"number\",\n        \"std\": 59.562415229940534,\n        \"min\": 0.2985000014305115,\n        \"max\": 242.05999755859372,\n        \"num_unique_values\": 5803,\n        \"samples\": [\n          41.865501403808594,\n          1.7359999418258667,\n          2.984499931335449\n        ],\n        \"semantic_type\": \"\",\n        \"description\": \"\"\n      }\n    },\n    {\n      \"column\": \"adj_close\",\n      \"properties\": {\n        \"dtype\": \"number\",\n        \"std\": 59.562415229940534,\n        \"min\": 0.2985000014305115,\n        \"max\": 242.05999755859372,\n        \"num_unique_values\": 5803,\n        \"samples\": [\n          41.865501403808594,\n          1.7359999418258667,\n          2.984499931335449\n        ],\n        \"semantic_type\": \"\",\n        \"description\": \"\"\n      }\n    },\n    {\n      \"column\": \"volume\",\n      \"properties\": {\n        \"dtype\": \"number\",\n        \"std\": 97582630,\n        \"min\": 15007500,\n        \"max\": 2086584000,\n        \"num_unique_values\": 6155,\n        \"samples\": [\n          90044000,\n          101124000,\n          164466000\n        ],\n        \"semantic_type\": \"\",\n        \"description\": \"\"\n      }\n    }\n  ]\n}"
            }
          },
          "metadata": {},
          "execution_count": 37
        }
      ]
    },
    {
      "cell_type": "code",
      "source": [
        "# Plotting the closing prices\n",
        "plt.figure(figsize=(12, 6))\n",
        "plt.plot(am.index, am['adj_close'], label='Adjusted Close Price', color='blue')\n",
        "plt.xlabel('Date')\n",
        "plt.ylabel('Adjusted Close Price')\n",
        "plt.legend()"
      ],
      "metadata": {
        "colab": {
          "base_uri": "https://localhost:8080/",
          "height": 560
        },
        "id": "ZRlrf495DADQ",
        "outputId": "0a235455-a4ee-4e12-972c-270f3cb61a7d"
      },
      "execution_count": null,
      "outputs": [
        {
          "output_type": "execute_result",
          "data": {
            "text/plain": [
              "<matplotlib.legend.Legend at 0x7f0c8c2ab090>"
            ]
          },
          "metadata": {},
          "execution_count": 23
        },
        {
          "output_type": "display_data",
          "data": {
            "text/plain": [
              "<Figure size 1200x600 with 1 Axes>"
            ],
            "image/png": "[encoded data removed]"
          },
          "metadata": {}
        }
      ]
    },
    {
      "cell_type": "code",
      "source": [
        "# Preprocess data and create input sequences\n",
        "def preprocess_data(data, sequence_length):\n",
        "    return [(data.iloc[i:i+sequence_length]['adj_close'].values, data.iloc[i+sequence_length]['adj_close'])\n",
        "            for i in range(len(data) - sequence_length)]"
      ],
      "metadata": {
        "id": "ntw83LleD9aY"
      },
      "execution_count": null,
      "outputs": []
    },
    {
      "cell_type": "code",
      "source": [
        "# Preprocess data\n",
        "sequence_length = 10\n",
        "data_sequences = preprocess_data(am, sequence_length)"
      ],
      "metadata": {
        "id": "O-sLdcEvDAAh"
      },
      "execution_count": null,
      "outputs": []
    },
    {
      "cell_type": "code",
      "source": [
        "# Split data into training and testing sets\n",
        "def split_data(data, test_size=0.2):\n",
        "    train_data, test_data = train_test_split(data, test_size=test_size, shuffle=False)\n",
        "    return train_data, test_data"
      ],
      "metadata": {
        "id": "t5qgRRRmELNV"
      },
      "execution_count": null,
      "outputs": []
    },
    {
      "cell_type": "code",
      "source": [
        "# Split data into training and testing sets\n",
        "train_data, test_data = split_data(data_sequences)"
      ],
      "metadata": {
        "id": "sBKJoAbZC_9h"
      },
      "execution_count": null,
      "outputs": []
    },
    {
      "cell_type": "code",
      "source": [
        "# Train linear regression model\n",
        "def train_model(X_train, y_train):\n",
        "    return LinearRegression().fit(X_train, y_train)"
      ],
      "metadata": {
        "id": "5nuCzSwRekpR"
      },
      "execution_count": null,
      "outputs": []
    },
    {
      "cell_type": "code",
      "source": [
        "# Prepare training data\n",
        "X_train = np.array([item[0] for item in train_data])\n",
        "y_train = np.array([item[1] for item in train_data])\n",
        "\n",
        "# Train linear regression model\n",
        "model = train_model(X_train, y_train)"
      ],
      "metadata": {
        "id": "HK8Idx_JC_6w"
      },
      "execution_count": null,
      "outputs": []
    },
    {
      "cell_type": "code",
      "source": [
        "# Prepare testing data\n",
        "X_test = np.array([item[0] for item in test_data])\n",
        "y_test = np.array([item[1] for item in test_data])\n",
        "\n",
        "# Example of using the trained model for prediction\n",
        "last_sequence = X_test[-1].reshape(1, -1)\n",
        "predicted_price = model.predict(last_sequence)[0]\n",
        "print(f'\\nPredicted Stock Price: {predicted_price}')"
      ],
      "metadata": {
        "id": "OqZ2xddHC_4D",
        "colab": {
          "base_uri": "https://localhost:8080/"
        },
        "outputId": "9526ee9e-d603-420a-aa9e-0b572be590ee"
      },
      "execution_count": null,
      "outputs": [
        {
          "output_type": "stream",
          "name": "stdout",
          "text": [
            "\n",
            "Predicted Stock Price: 226.92500053681428\n"
          ]
        }
      ]
    },
    {
      "cell_type": "code",
      "source": [
        "def evaluate_model(model, X_test, y_test):\n",
        "    return mean_squared_error(y_test, model.predict(X_test))"
      ],
      "metadata": {
        "id": "zJ8GgbrTfGVN"
      },
      "execution_count": null,
      "outputs": []
    },
    {
      "cell_type": "code",
      "source": [
        "# Evaluate model using Mean Squared Error\n",
        "mse = evaluate_model(model, X_test, y_test)\n",
        "\n",
        "# Evaluate model using R-squared\n",
        "r2 = r2_score(y_test, model.predict(X_test))\n",
        "\n",
        "# Calculate Adjusted R-squared (adjusts for number of features)\n",
        "n = X_test.shape[0]  # Number of samples\n",
        "p = X_test.shape[1]  # Number of features\n",
        "\n",
        "adjusted_r2 = 1 - (1 - r2) * (n - 1) / (n - p - 1)\n",
        "\n",
        "# Print the R-squared and adjusted R-squared\n",
        "print(f'\\nR-squared: {r2:.4f}')\n",
        "print(f'Adjusted R-squared: {adjusted_r2:.2f}')\n",
        "print(f'Mean Squared Error on Test Data: {mse: 0.2f}')"
      ],
      "metadata": {
        "id": "QEbX1fKq-vnm",
        "colab": {
          "base_uri": "https://localhost:8080/"
        },
        "outputId": "38b33f1a-4da6-4857-f6b3-7b95037d6faf"
      },
      "execution_count": null,
      "outputs": [
        {
          "output_type": "stream",
          "name": "stdout",
          "text": [
            "\n",
            "R-squared: 0.9911\n",
            "Adjusted R-squared: 0.99\n",
            "Mean Squared Error on Test Data:  10.07\n"
          ]
        }
      ]
    },
    {
      "cell_type": "code",
      "source": [],
      "metadata": {
        "id": "2HqOBd-o-vqG"
      },
      "execution_count": null,
      "outputs": []
    },
    {
      "cell_type": "code",
      "source": [],
      "metadata": {
        "id": "W0DGPjpU-vsr"
      },
      "execution_count": null,
      "outputs": []
    },
    {
      "cell_type": "code",
      "source": [],
      "metadata": {
        "id": "Q-CvNUyB-vvX"
      },
      "execution_count": null,
      "outputs": []
    },
    {
      "cell_type": "code",
      "source": [],
      "metadata": {
        "id": "46EUDAHB-vyO"
      },
      "execution_count": null,
      "outputs": []
    },
    {
      "cell_type": "code",
      "source": [],
      "metadata": {
        "id": "lT-Jt_Ws-v1C"
      },
      "execution_count": null,
      "outputs": []
    },
    {
      "cell_type": "code",
      "source": [],
      "metadata": {
        "id": "-n1ssyX2-v4P"
      },
      "execution_count": null,
      "outputs": []
    },
    {
      "cell_type": "code",
      "source": [],
      "metadata": {
        "id": "tRfLRU2B-v6y"
      },
      "execution_count": null,
      "outputs": []
    }
  ]
}